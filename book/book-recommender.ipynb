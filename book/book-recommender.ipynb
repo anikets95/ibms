{
 "cells": [
  {
   "metadata": {},
   "cell_type": "code",
   "outputs": [],
   "execution_count": null,
   "source": "!pip install sagemaker, numpy",
   "id": "273e835aa302a61e"
  },
  {
   "metadata": {},
   "cell_type": "code",
   "outputs": [],
   "execution_count": null,
   "source": [
    "import sagemaker\n",
    "from sagemaker import get_execution_role\n",
    "from sagemaker.model import Model\n",
    "import numpy as np"
   ],
   "id": "7e9c3c7cd6db37a8"
  },
  {
   "cell_type": "code",
   "execution_count": null,
   "id": "initial_id",
   "metadata": {
    "collapsed": true
   },
   "outputs": [],
   "source": [
    "# Get execution role\n",
    "role = get_execution_role()\n",
    "\n",
    "# S3 paths for model artifacts\n",
    "model_artifacts = 's3://book-model-jk/model.tar.gz'\n",
    "\n",
    "# Create the SageMaker Model\n",
    "model = Model(\n",
    "    model_data=model_artifacts,\n",
    "    role=role,\n",
    "    entry_point='script.py',\n",
    "    framework_version='1.0-1',\n",
    "    py_version='py3'\n",
    ")\n",
    "\n",
    "# Deploy the Model\n",
    "predictor = model.deploy(\n",
    "    initial_instance_count=1,\n",
    "    instance_type='ml.m5.large'\n",
    ")"
   ]
  },
  {
   "metadata": {},
   "cell_type": "code",
   "outputs": [],
   "execution_count": null,
   "source": [
    "# Example payload for prediction\n",
    "payload = np.array([[1, 4.5]])  # Genre code and rating\n",
    "\n",
    "# Send the payload to the endpoint\n",
    "response = predictor.predict(payload)\n",
    "print(response)"
   ],
   "id": "391a9e04333003d6"
  }
 ],
 "metadata": {
  "kernelspec": {
   "display_name": "Python 3",
   "language": "python",
   "name": "python3"
  },
  "language_info": {
   "codemirror_mode": {
    "name": "ipython",
    "version": 2
   },
   "file_extension": ".py",
   "mimetype": "text/x-python",
   "name": "python",
   "nbconvert_exporter": "python",
   "pygments_lexer": "ipython2",
   "version": "2.7.6"
  }
 },
 "nbformat": 4,
 "nbformat_minor": 5
}
